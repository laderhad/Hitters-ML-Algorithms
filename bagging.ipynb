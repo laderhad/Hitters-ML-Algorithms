{
 "cells": [
  {
   "cell_type": "code",
   "execution_count": 2,
   "id": "9dd54732",
   "metadata": {},
   "outputs": [],
   "source": [
    "import numpy as np\n",
    "import pandas as pd \n",
    "from sklearn.model_selection import train_test_split, GridSearchCV,cross_val_score\n",
    "from sklearn.metrics import mean_squared_error, r2_score\n",
    "import matplotlib.pyplot as plt\n",
    "from sklearn.preprocessing import scale \n",
    "from sklearn import model_selection\n",
    "from sklearn.tree import DecisionTreeRegressor, DecisionTreeClassifier\n",
    "from sklearn.neighbors import KNeighborsRegressor\n",
    "from sklearn.ensemble import BaggingRegressor\n",
    "\n",
    "from warnings import filterwarnings\n",
    "filterwarnings('ignore')"
   ]
  },
  {
   "cell_type": "code",
   "execution_count": 3,
   "id": "887c3c89",
   "metadata": {},
   "outputs": [],
   "source": [
    "hit = pd.read_csv(\"Hitters.csv\")\n",
    "df = hit.copy()\n",
    "df = df.dropna()\n",
    "dms = pd.get_dummies(df[['League', 'Division', 'NewLeague']])\n",
    "y = df[\"Salary\"]\n",
    "X_ = df.drop(['Salary', 'League', 'Division', 'NewLeague'], axis=1).astype('float64')\n",
    "X = pd.concat([X_, dms[['League_N', 'Division_W', 'NewLeague_N']]], axis=1)\n",
    "X_train, X_test, y_train, y_test = train_test_split(X, y, \n",
    "                                                    test_size=0.25, \n",
    "                                                    random_state=42)"
   ]
  },
  {
   "cell_type": "code",
   "execution_count": 4,
   "id": "af3cc09f",
   "metadata": {},
   "outputs": [],
   "source": [
    "bag_model=BaggingRegressor(bootstrap_features=True)"
   ]
  },
  {
   "cell_type": "code",
   "execution_count": 5,
   "id": "20f21359",
   "metadata": {},
   "outputs": [
    {
     "data": {
      "text/plain": [
       "BaggingRegressor(bootstrap_features=True)"
      ]
     },
     "execution_count": 5,
     "metadata": {},
     "output_type": "execute_result"
    }
   ],
   "source": [
    "bag_model.fit(X_train,y_train)"
   ]
  },
  {
   "cell_type": "code",
   "execution_count": 7,
   "id": "99325382",
   "metadata": {},
   "outputs": [
    {
     "data": {
      "text/plain": [
       "[array([ 9,  4, 13,  1, 11,  0, 13, 13,  6,  3,  8,  7,  4, 11,  3,  4,  3,\n",
       "         4,  1]),\n",
       " array([ 3,  5, 12, 12, 12, 10, 18,  7,  6,  2, 11,  4,  9, 11, 13, 17,  4,\n",
       "        16, 15]),\n",
       " array([15,  3, 17, 12, 18, 11,  6,  7,  8, 14, 15,  4,  2, 10, 10,  0, 10,\n",
       "         8,  3]),\n",
       " array([ 8, 12,  1,  6, 15, 16, 17,  6,  1,  2, 11,  0,  8,  5,  2,  7,  0,\n",
       "         9, 18]),\n",
       " array([12,  8,  4,  5,  4, 12, 12, 14,  9, 12,  9, 17, 14,  2, 10,  5,  0,\n",
       "        10,  4]),\n",
       " array([ 9, 12, 14, 10, 14,  2,  3,  0,  0,  7,  7,  5, 17, 14,  9,  3, 17,\n",
       "        16,  0]),\n",
       " array([ 7,  3, 14, 12,  9,  7, 18, 15,  5, 13,  1, 11,  5,  5,  6,  2, 15,\n",
       "         0,  0]),\n",
       " array([ 4,  8, 16, 18, 11, 11,  7,  2, 17,  1, 10,  3,  7,  7, 14,  4,  4,\n",
       "        15, 11]),\n",
       " array([15,  9, 14,  9,  2, 18,  2, 13, 14,  4, 10, 11,  5,  1, 12,  7,  5,\n",
       "        13,  7]),\n",
       " array([11, 11, 16,  2, 15, 15,  2,  6, 15,  4, 16, 17, 18,  7, 10,  6, 15,\n",
       "         9, 18])]"
      ]
     },
     "execution_count": 7,
     "metadata": {},
     "output_type": "execute_result"
    }
   ],
   "source": [
    "bag_model.estimator_params\n",
    "bag_model.n_estimators\n",
    "bag_model.estimators_samples_\n",
    "bag_model.estimators_features_"
   ]
  },
  {
   "cell_type": "code",
   "execution_count": 8,
   "id": "ecccaebb",
   "metadata": {},
   "outputs": [
    {
     "data": {
      "text/plain": [
       "DecisionTreeRegressor(random_state=1619429347)"
      ]
     },
     "execution_count": 8,
     "metadata": {},
     "output_type": "execute_result"
    }
   ],
   "source": [
    "bag_model.estimators_[1]"
   ]
  },
  {
   "cell_type": "code",
   "execution_count": 9,
   "id": "2516329b",
   "metadata": {},
   "outputs": [
    {
     "data": {
      "text/plain": [
       "376.969726670957"
      ]
     },
     "execution_count": 9,
     "metadata": {},
     "output_type": "execute_result"
    }
   ],
   "source": [
    "y_pred = bag_model.predict(X_test)\n",
    "np.sqrt(mean_squared_error(y_test, y_pred))"
   ]
  },
  {
   "cell_type": "code",
   "execution_count": 10,
   "id": "c81dfb00",
   "metadata": {},
   "outputs": [],
   "source": [
    "second_y_pred = bag_model.estimators_[1].fit(X_train, y_train).predict(X_test)"
   ]
  },
  {
   "cell_type": "code",
   "execution_count": 11,
   "id": "e00ce4d7",
   "metadata": {},
   "outputs": [
    {
     "data": {
      "text/plain": [
       "434.8797726138766"
      ]
     },
     "execution_count": 11,
     "metadata": {},
     "output_type": "execute_result"
    }
   ],
   "source": [
    "np.sqrt(mean_squared_error(y_test, second_y_pred))"
   ]
  },
  {
   "cell_type": "code",
   "execution_count": 12,
   "id": "ea6d7eb3",
   "metadata": {},
   "outputs": [],
   "source": [
    "#If you want you can put a number and change mse"
   ]
  },
  {
   "cell_type": "code",
   "execution_count": 13,
   "id": "155fdc45",
   "metadata": {},
   "outputs": [],
   "source": [
    "bag_params = {\"n_estimators\": range(2,20)}"
   ]
  },
  {
   "cell_type": "code",
   "execution_count": 14,
   "id": "316595e4",
   "metadata": {},
   "outputs": [],
   "source": [
    "bag_cv_model=GridSearchCV(bag_model,bag_params,cv=10)"
   ]
  },
  {
   "cell_type": "code",
   "execution_count": 15,
   "id": "1036485b",
   "metadata": {},
   "outputs": [
    {
     "data": {
      "text/plain": [
       "GridSearchCV(cv=10, estimator=BaggingRegressor(bootstrap_features=True),\n",
       "             param_grid={'n_estimators': range(2, 20)})"
      ]
     },
     "execution_count": 15,
     "metadata": {},
     "output_type": "execute_result"
    }
   ],
   "source": [
    "bag_cv_model.fit(X_train,y_train)"
   ]
  },
  {
   "cell_type": "code",
   "execution_count": 16,
   "id": "0773e683",
   "metadata": {},
   "outputs": [
    {
     "data": {
      "text/plain": [
       "{'n_estimators': 12}"
      ]
     },
     "execution_count": 16,
     "metadata": {},
     "output_type": "execute_result"
    }
   ],
   "source": [
    "bag_cv_model.best_params_"
   ]
  },
  {
   "cell_type": "code",
   "execution_count": 17,
   "id": "855098f7",
   "metadata": {},
   "outputs": [],
   "source": [
    "bag_tuned = BaggingRegressor( n_estimators = 12, random_state = 45)"
   ]
  },
  {
   "cell_type": "code",
   "execution_count": 18,
   "id": "be9a8533",
   "metadata": {},
   "outputs": [
    {
     "data": {
      "text/plain": [
       "BaggingRegressor(n_estimators=12, random_state=45)"
      ]
     },
     "execution_count": 18,
     "metadata": {},
     "output_type": "execute_result"
    }
   ],
   "source": [
    "bag_tuned.fit(X_train, y_train)"
   ]
  },
  {
   "cell_type": "code",
   "execution_count": 19,
   "id": "a5558d7b",
   "metadata": {},
   "outputs": [],
   "source": [
    "y_pred = bag_tuned.predict(X_test)"
   ]
  },
  {
   "cell_type": "code",
   "execution_count": 20,
   "id": "08c2eec3",
   "metadata": {},
   "outputs": [
    {
     "data": {
      "text/plain": [
       "346.0633892916423"
      ]
     },
     "execution_count": 20,
     "metadata": {},
     "output_type": "execute_result"
    }
   ],
   "source": [
    "np.sqrt(mean_squared_error(y_test, y_pred))"
   ]
  },
  {
   "cell_type": "code",
   "execution_count": null,
   "id": "4c4bc9ba",
   "metadata": {},
   "outputs": [],
   "source": []
  }
 ],
 "metadata": {
  "kernelspec": {
   "display_name": "Python 3 (ipykernel)",
   "language": "python",
   "name": "python3"
  },
  "language_info": {
   "codemirror_mode": {
    "name": "ipython",
    "version": 3
   },
   "file_extension": ".py",
   "mimetype": "text/x-python",
   "name": "python",
   "nbconvert_exporter": "python",
   "pygments_lexer": "ipython3",
   "version": "3.9.12"
  }
 },
 "nbformat": 4,
 "nbformat_minor": 5
}
